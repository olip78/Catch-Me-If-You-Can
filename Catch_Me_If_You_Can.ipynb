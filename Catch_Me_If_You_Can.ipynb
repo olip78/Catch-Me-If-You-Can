{
 "cells": [
  {
   "cell_type": "markdown",
   "metadata": {},
   "source": [
    "# Intruder Detection through Webpage Session Tracking"
   ]
  },
  {
   "cell_type": "markdown",
   "metadata": {},
   "source": [
    "#### Problem: \n",
    "Identification of a specific user by tracking logs of attended Web pages. <br>\n",
    "https://www.kaggle.com/c/catch-me-if-you-can-intruder-detection-through-webpage-session-tracking2/overview\n",
    "\n",
    "#### Result: \n",
    "10th place from out of about 4700 teams on Kaggle; 0.972 roc-auc. Benchmark: simple BOW on sessions: 0.916, the best score: 0.985. <br>\n",
    "https://www.kaggle.com/c/catch-me-if-you-can-intruder-detection-through-webpage-session-tracking2/leaderboard\n",
    "\n",
    "#### Data:\n",
    "The data comes from the Blaise Pascal University proxy servers.\n",
    "\n",
    "The original data contains logs (site name, time of visit) of about 1500 users for 16 months (train) + 6 months (test). The logs were splitted into sessions per 10 sites with a sliding window 10. These values could be additional hyperparameters, but were frozen by the owners of the problem.\n",
    "\n",
    "#### Main points of the solution:\n",
    "Remark: for the specific user the name Alice is used in the notebook\n",
    "\n",
    "- Considering data as time series. \n",
    "- Aggregation of some site names (services): over individual session id-s or / and services with multiple ids, that are not used by Alice. It helped to reduce dimensionality of the vectorising space and to deal with new sites in the test set.\n",
    "- Elementary features, that could be directly extracted from the data: number of unique sites in a session, weekdays, hours, aggregated minutes, session timespan etc. al well as some products of them. \n",
    "- Using the number of unique sites of Alice per session as a feature leads to overfitting, but it could be used as an indicator of Alice's time activity. \n",
    "- As final vectoriser was used a combination of simple bag of words on sessions with pre-processed site names (each site name - one word) and an additional tf-idf one on the set of common sites (sites used by both types of users). There were also some other vectorisations tested, but all of them worked worse. \n",
    "- For classification a base line of few linear algorithms was tested. Simple logistic regression showed the best performance and was used as the final classifier.\n",
    "- An accurate cross validation was extremely important."
   ]
  },
  {
   "cell_type": "code",
   "execution_count": 5,
   "metadata": {},
   "outputs": [],
   "source": [
    "from __future__ import division, print_function\n",
    "\n",
    "import warnings\n",
    "warnings.filterwarnings('ignore')\n",
    "\n",
    "import glob\n",
    "import os\n",
    "from tqdm import tqdm_notebook\n",
    "\n",
    "import numpy as np\n",
    "from scipy.sparse import csr_matrix, hstack\n",
    "import pandas as pd\n",
    "pd.set_option('display.max.columns', 25)\n",
    "import pickle\n",
    "import seaborn as sns\n",
    "import datetime\n",
    "from collections import Counter\n",
    "from random import sample\n",
    "\n",
    "from sklearn.model_selection import train_test_split, GridSearchCV, TimeSeriesSplit, cross_val_score\n",
    "from sklearn.linear_model import SGDClassifier, LogisticRegression, LogisticRegressionCV\n",
    "from sklearn.feature_extraction.text import TfidfVectorizer, CountVectorizer\n",
    "from sklearn.metrics import roc_auc_score\n",
    "\n",
    "from sklearn.preprocessing import MinMaxScaler, OneHotEncoder, PowerTransformer\n",
    "from sklearn.svm import LinearSVC, SVC\n",
    "\n",
    "%matplotlib inline\n",
    "from matplotlib import pyplot as plt\n",
    "from matplotlib import colors as mcolors"
   ]
  },
  {
   "cell_type": "code",
   "execution_count": 2,
   "metadata": {},
   "outputs": [],
   "source": [
    "# project library\n",
    "# see at the end of the notebook\n",
    "\n",
    "from alice_lib import *"
   ]
  },
  {
   "cell_type": "code",
   "execution_count": 3,
   "metadata": {},
   "outputs": [],
   "source": [
    "plt.style.use(['seaborn'])"
   ]
  },
  {
   "cell_type": "markdown",
   "metadata": {},
   "source": [
    "### Data"
   ]
  },
  {
   "cell_type": "code",
   "execution_count": 4,
   "metadata": {},
   "outputs": [],
   "source": [
    "def path_(filename): \n",
    "    return os.path.join('data', filename) \n",
    "\n",
    "PATH_TO_DATA = os.path.join('data')"
   ]
  },
  {
   "cell_type": "code",
   "execution_count": 7,
   "metadata": {},
   "outputs": [],
   "source": [
    "# site names/id\n",
    "with open(path_('site_dic.pkl'), 'rb') as handle:\n",
    "    site_dict = pickle.load(handle)\n",
    "site_dict_rev = {site_dict[k]: k for k in site_dict}"
   ]
  },
  {
   "cell_type": "code",
   "execution_count": 6,
   "metadata": {},
   "outputs": [
    {
     "data": {
      "text/plain": [
       "((253561, 21), (82797, 20))"
      ]
     },
     "execution_count": 6,
     "metadata": {},
     "output_type": "execute_result"
    }
   ],
   "source": [
    "df_train = pd.read_csv(path_('train_sessions.csv'),  index_col=0)\n",
    "df_test = pd.read_csv(path_('test_sessions.csv'),  index_col=0)\n",
    "\n",
    "df_train['time1']= pd.to_datetime(df_train['time1'])\n",
    "df_train = df_train.sort_values('time1')\n",
    "df_train.index = range(df_train.shape[0])\n",
    "\n",
    "df_train.shape, df_test.shape"
   ]
  },
  {
   "cell_type": "code",
   "execution_count": 1364,
   "metadata": {
    "scrolled": true
   },
   "outputs": [
    {
     "name": "stdout",
     "output_type": "stream",
     "text": [
      "by Alice: 0.02\n",
      "by other: 0.09\n"
     ]
    }
   ],
   "source": [
    "# cutted sessions\n",
    "\n",
    "time_columns = ['time'+str(i) for i in range(1, 11)]\n",
    "print('by Alice: {:.2f}'.format(df_train[df_train['target']==1].loc[:, 'time10'].isna().sum()/df_train[df_train['target']==1].shape[0]))\n",
    "print('by other: {:.2f}'.format(df_train[df_train['target']!=1].loc[:, 'time10'].isna().sum()/df_train[df_train['target']!=1].shape[0]))"
   ]
  },
  {
   "cell_type": "code",
   "execution_count": 1370,
   "metadata": {},
   "outputs": [
    {
     "name": "stdout",
     "output_type": "stream",
     "text": [
      "Alice:\n"
     ]
    },
    {
     "data": {
      "text/html": [
       "<div>\n",
       "<style scoped>\n",
       "    .dataframe tbody tr th:only-of-type {\n",
       "        vertical-align: middle;\n",
       "    }\n",
       "\n",
       "    .dataframe tbody tr th {\n",
       "        vertical-align: top;\n",
       "    }\n",
       "\n",
       "    .dataframe thead th {\n",
       "        text-align: right;\n",
       "    }\n",
       "</style>\n",
       "<table border=\"1\" class=\"dataframe\">\n",
       "  <thead>\n",
       "    <tr style=\"text-align: right;\">\n",
       "      <th></th>\n",
       "      <th>time1</th>\n",
       "      <th>time2</th>\n",
       "      <th>time3</th>\n",
       "      <th>time4</th>\n",
       "      <th>time5</th>\n",
       "      <th>time6</th>\n",
       "      <th>time7</th>\n",
       "      <th>time8</th>\n",
       "      <th>time9</th>\n",
       "      <th>time10</th>\n",
       "    </tr>\n",
       "  </thead>\n",
       "  <tbody>\n",
       "    <tr>\n",
       "      <th>0</th>\n",
       "      <td>0.0</td>\n",
       "      <td>0.076923</td>\n",
       "      <td>0.25641</td>\n",
       "      <td>0.282051</td>\n",
       "      <td>0.435897</td>\n",
       "      <td>0.615385</td>\n",
       "      <td>0.717949</td>\n",
       "      <td>0.871795</td>\n",
       "      <td>0.897436</td>\n",
       "      <td>1.0</td>\n",
       "    </tr>\n",
       "  </tbody>\n",
       "</table>\n",
       "</div>"
      ],
      "text/plain": [
       "   time1     time2    time3     time4     time5     time6     time7     time8  \\\n",
       "0    0.0  0.076923  0.25641  0.282051  0.435897  0.615385  0.717949  0.871795   \n",
       "\n",
       "      time9  time10  \n",
       "0  0.897436     1.0  "
      ]
     },
     "execution_count": 1370,
     "metadata": {},
     "output_type": "execute_result"
    }
   ],
   "source": [
    "# distridution of cutted session lengths\n",
    "time_columns = ['time'+str(i) for i in range(1, 11)]\n",
    "print('Alice:')\n",
    "pd.DataFrame(df_train[df_train['target']==1].isna().sum()).T.loc[:, time_columns]/df_train[df_train['target']==1].loc[:, 'time10'].isna().sum()"
   ]
  },
  {
   "cell_type": "code",
   "execution_count": 1371,
   "metadata": {},
   "outputs": [
    {
     "name": "stdout",
     "output_type": "stream",
     "text": [
      "not Alice:\n"
     ]
    },
    {
     "data": {
      "text/html": [
       "<div>\n",
       "<style scoped>\n",
       "    .dataframe tbody tr th:only-of-type {\n",
       "        vertical-align: middle;\n",
       "    }\n",
       "\n",
       "    .dataframe tbody tr th {\n",
       "        vertical-align: top;\n",
       "    }\n",
       "\n",
       "    .dataframe thead th {\n",
       "        text-align: right;\n",
       "    }\n",
       "</style>\n",
       "<table border=\"1\" class=\"dataframe\">\n",
       "  <thead>\n",
       "    <tr style=\"text-align: right;\">\n",
       "      <th></th>\n",
       "      <th>time1</th>\n",
       "      <th>time2</th>\n",
       "      <th>time3</th>\n",
       "      <th>time4</th>\n",
       "      <th>time5</th>\n",
       "      <th>time6</th>\n",
       "      <th>time7</th>\n",
       "      <th>time8</th>\n",
       "      <th>time9</th>\n",
       "      <th>time10</th>\n",
       "    </tr>\n",
       "  </thead>\n",
       "  <tbody>\n",
       "    <tr>\n",
       "      <th>0</th>\n",
       "      <td>0.0</td>\n",
       "      <td>0.153983</td>\n",
       "      <td>0.295149</td>\n",
       "      <td>0.410725</td>\n",
       "      <td>0.521362</td>\n",
       "      <td>0.624922</td>\n",
       "      <td>0.722563</td>\n",
       "      <td>0.814553</td>\n",
       "      <td>0.909746</td>\n",
       "      <td>1.0</td>\n",
       "    </tr>\n",
       "  </tbody>\n",
       "</table>\n",
       "</div>"
      ],
      "text/plain": [
       "   time1     time2     time3     time4     time5     time6     time7  \\\n",
       "0    0.0  0.153983  0.295149  0.410725  0.521362  0.624922  0.722563   \n",
       "\n",
       "      time8     time9  time10  \n",
       "0  0.814553  0.909746     1.0  "
      ]
     },
     "execution_count": 1371,
     "metadata": {},
     "output_type": "execute_result"
    }
   ],
   "source": [
    "time_columns = ['time'+str(i) for i in range(1, 11)]\n",
    "print('not Alice:')\n",
    "pd.DataFrame(df_train[df_train['target']!=1].isna().sum()).T.loc[:, time_columns]/df_train[df_train['target']!=1].loc[:, 'time10'].isna().sum()"
   ]
  },
  {
   "cell_type": "code",
   "execution_count": 9,
   "metadata": {},
   "outputs": [],
   "source": [
    "# pre-proceced data with features wekday, hour, number of unique sites pro session etc. (see below)\n",
    "\n",
    "df_train_transformed = pd.read_csv(path_('train_transformed.csv'), index_col=0)\n",
    "df_test_transformed = pd.read_csv(path_('test_transformed.csv'), index_col=0)\n",
    "y = df_train_transformed.target.values"
   ]
  },
  {
   "cell_type": "markdown",
   "metadata": {},
   "source": [
    "## EDA & Feature Engineering"
   ]
  },
  {
   "cell_type": "markdown",
   "metadata": {},
   "source": [
    "There are three information sources the data: sequence, sites names, visit time. Let's consider the two last ones. Sequences will be reflected in n-gramms by sessions vectorisation. "
   ]
  },
  {
   "cell_type": "markdown",
   "metadata": {},
   "source": [
    "### Time"
   ]
  },
  {
   "cell_type": "code",
   "execution_count": 1383,
   "metadata": {},
   "outputs": [
    {
     "data": {
      "text/plain": [
       "<matplotlib.legend.Legend at 0x7fabdf256ad0>"
      ]
     },
     "execution_count": 1383,
     "metadata": {},
     "output_type": "execute_result"
    },
    {
     "data": {
      "image/png": "[encoded data removed]",
      "text/plain": [
       "<Figure size 1008x288 with 1 Axes>"
      ]
     },
     "metadata": {
      "needs_background": "light"
     },
     "output_type": "display_data"
    }
   ],
   "source": [
    "fig, axes = plt.subplots(nrows=1, ncols=1, figsize=(14, 4))\n",
    "tmp = pd.to_datetime(df_train['time1'].rename('train'))\n",
    "m = len(tmp)\n",
    "axes.scatter(tmp.values, tmp.index, s=5, c='grey', label='train')\n",
    "tmp = pd.to_datetime(df_test['time1'].rename('test')).sort_values()\n",
    "tmp.index = range(m, m+tmp.shape[0])\n",
    "axes.scatter(tmp.values, tmp.index, s=5, c='y', label='test')\n",
    "axes.set_title('time distribution of the data')\n",
    "axes.legend(loc='lower right')"
   ]
  },
  {
   "cell_type": "markdown",
   "metadata": {},
   "source": [
    "The data is time oriented. If calender time features or any time bases statistics are used, the train data have to be sorted and considered as a time series.\n",
    "\n",
    "Possible features: \n",
    "- week day, hour, minute and there pairwise products\n",
    "- length on the session\n",
    "- for popular sites: avg time of the site visit per session / avg time of the site visit, vectorised per popular sites"
   ]
  },
  {
   "cell_type": "code",
   "execution_count": 1350,
   "metadata": {},
   "outputs": [
    {
     "data": {
      "text/plain": [
       "Text(0.5, 1.0, 'not Alice')"
      ]
     },
     "execution_count": 1350,
     "metadata": {},
     "output_type": "execute_result"
    },
    {
     "data": {
      "image/png": "[encoded data removed]",
      "text/plain": [
       "<Figure size 1296x576 with 2 Axes>"
      ]
     },
     "metadata": {
      "needs_background": "light"
     },
     "output_type": "display_data"
    }
   ],
   "source": [
    "fig, axs = plt.subplots(2, 1, figsize=(18, 8))\n",
    "tmp = pd.to_datetime(df_train[df_train['target']==1]['time1'].rename('alice')).sort_values()\n",
    "axs[1].scatter(tmp.values, tmp.index, s=1, c='red')\n",
    "axs[1].set_title('Alice')\n",
    "tmp = pd.to_datetime(df_train[df_train['target']!=1]['time1'].rename('not alice')).sort_values()\n",
    "axs[0].scatter(tmp.values, tmp.index, s=0.5, c='green')\n",
    "axs[0].set_title('not Alice')"
   ]
  },
  {
   "cell_type": "markdown",
   "metadata": {},
   "source": [
    "#### Alice' time of site visits (time diff)"
   ]
  },
  {
   "cell_type": "code",
   "execution_count": 12,
   "metadata": {},
   "outputs": [],
   "source": [
    "def get_timediff(df):\n",
    "    time_columns = ['time'+str(i) for i in range(1, 11)]\n",
    "    site_columns = ['site'+str(i) for i in range(1, 11)]\n",
    "    a = pd.DataFrame(pd.to_datetime(df.loc[:, time_columns].stack()).sort_values(), columns=['time'])\n",
    "    a['time_diff'] = pd.to_timedelta(a.time.diff())\n",
    "    a = a.dropna()\n",
    "    a['time_diff'] = a['time_diff'].astype(int)/1000000000\n",
    "    return a"
   ]
  },
  {
   "cell_type": "code",
   "execution_count": 13,
   "metadata": {},
   "outputs": [],
   "source": [
    "time_split = datetime.datetime(2014, 6, 1)"
   ]
  },
  {
   "cell_type": "markdown",
   "metadata": {},
   "source": [
    "Let's show on sites visit time distribution in seconds (< 70)"
   ]
  },
  {
   "cell_type": "code",
   "execution_count": 21,
   "metadata": {},
   "outputs": [
    {
     "data": {
      "text/plain": [
       "Text(0.5, 0, 'seconds')"
      ]
     },
     "execution_count": 21,
     "metadata": {},
     "output_type": "execute_result"
    },
    {
     "data": {
      "image/png": "[encoded data removed]",
      "text/plain": [
       "<Figure size 1008x504 with 4 Axes>"
      ]
     },
     "metadata": {
      "needs_background": "light"
     },
     "output_type": "display_data"
    }
   ],
   "source": [
    "fig, axes = plt.subplots(nrows=2, ncols=2, figsize=(14, 7))\n",
    "alice = get_timediff(df_train[(df_train['target']==1)&(df_train['time1']<time_split)])\n",
    "alice['time_diff'].value_counts().sort_index()[:10].plot(ax=axes[0, 0])\n",
    "axes[0, 0].set_title('Alice < 10')\n",
    "\n",
    "not_alice = get_timediff(df_train[(df_train['target']==0)&(df_train['time1']<time_split)])\n",
    "not_alice['time_diff'].value_counts().sort_index()[:10].plot(ax=axes[0, 1])\n",
    "axes[0, 1].set_title('not Alice < 10')\n",
    "\n",
    "alice = get_timediff(df_train[(df_train['target']==1)&(df_train['time1']<time_split)])\n",
    "alice['time_diff'].value_counts().sort_index()[10:70].plot(ax=axes[1, 0])\n",
    "axes[1, 0].set_title('70 > Alice ≥ 10')\n",
    "\n",
    "not_alice = get_timediff(df_train[(df_train['target']==0)&(df_train['time1']<time_split)])\n",
    "not_alice['time_diff'].value_counts().sort_index()[10:70].plot(ax=axes[1, 1])\n",
    "axes[1, 1].set_title('70 > not Alice ≥ 10')\n",
    "\n",
    "axes[1, 0].set_xlabel('seconds')\n",
    "axes[1, 1].set_xlabel('seconds')"
   ]
  },
  {
   "cell_type": "markdown",
   "metadata": {},
   "source": [
    "Now more detailed. 'diff' means difference between Alice's and not Alice distributions, 'share': distribution by Alice."
   ]
  },
  {
   "cell_type": "code",
   "execution_count": 2655,
   "metadata": {},
   "outputs": [
    {
     "name": "stdout",
     "output_type": "stream",
     "text": [
      "sess.length = 0 :,  diff: 0.82, share: 0.46\n",
      "sess.length = 1 :,  diff: 1.03, share: 0.28\n",
      "sess.length = 2 :,  diff: 1.16, share: 0.06\n",
      "sess.length = 3 :,  diff: 1.12, share: 0.03\n",
      "sess.length = 4 :,  diff: 1.29, share: 0.02\n",
      "sess.length = 5 :,  diff: 1.42, share: 0.02\n",
      "sess.length = 6 :,  diff: 1.67, share: 0.01\n",
      "----\n",
      "sess.length > 1 :,  diff: 1.54, share: 0.26\n",
      "sess.length > 2 :,  diff: 1.73, share: 0.20\n",
      "sess.length > 3 :,  diff: 1.92, share: 0.17\n",
      "sess.length > 4 :,  diff: 2.07, share: 0.14\n",
      "sess.length > 5 :,  diff: 2.21, share: 0.13\n",
      "sess.length > 6 :,  diff: 2.30, share: 0.11\n",
      "----\n",
      "4 < sess.length < 60 :,  diff: 1.97, share: 0.13\n",
      "sess.length > 59 :,  diff: 3.12, share: 0.02\n"
     ]
    }
   ],
   "source": [
    "for k in range(0, 7):\n",
    "    a = alice[alice.time_diff==k].shape[0]/alice.shape[0]\n",
    "    print('sess.length = {} :,  diff: {:.2f}, share: {:.2f}'.format(k, a/(not_alice[not_alice.time_diff==k].shape[0]/\n",
    "                                                        not_alice.shape[0]), a))\n",
    "print('----')\n",
    "for k in range(1, 7):\n",
    "    a = alice[alice.time_diff>k].shape[0]/alice.shape[0]\n",
    "    print('sess.length > {} :,  diff: {:.2f}, share: {:.2f}'.format(k, a/(not_alice[not_alice.time_diff>k].shape[0]/\n",
    "                                                    not_alice.shape[0]), a))\n",
    "    \n",
    "print('----')\n",
    "a = alice[(alice.time_diff>4)&(alice.time_diff<60)].shape[0]/alice.shape[0]\n",
    "print('{} < sess.length < {} :,  diff: {:.2f}, share: {:.2f}'.format(4, 60, \n",
    "                                                                a/(not_alice[(not_alice.time_diff>4)&\n",
    "                                                                             (not_alice.time_diff<60)].shape[0]/\n",
    "                                                    not_alice.shape[0]), a))\n",
    "k=59\n",
    "a = alice[alice.time_diff>k].shape[0]/alice.shape[0]\n",
    "print('sess.length > {} :,  diff: {:.2f}, share: {:.2f}'.format(k, a/(not_alice[not_alice.time_diff>k].shape[0]/\n",
    "                                                    not_alice.shape[0]), a))"
   ]
  },
  {
   "cell_type": "markdown",
   "metadata": {},
   "source": [
    "Possible statistics:\n",
    "- Number of time diff = 0\n",
    "- Number of time diff ≥ 60\n",
    "- 5 ≤ Number of time diff ≤ 60"
   ]
  },
  {
   "cell_type": "code",
   "execution_count": 1567,
   "metadata": {},
   "outputs": [],
   "source": [
    "def pl_(df, figsize=(16,3), title=''):\n",
    "    n = df[df.target==1].loc[:, columns].shape[0]\n",
    "    alice = (df[df.target==1].loc[:, columns].stack().astype(int).value_counts().sort_index()/n)\n",
    "    n = df[df.target==0].loc[:, columns].shape[0]\n",
    "    not_alice = (df[df.target==0].loc[:, columns].stack().astype(int).value_counts().sort_index()/n)\n",
    "    for_plot = pd.concat([alice, not_alice], axis=1)\n",
    "    for_plot.columns=['alice', 'not_alice']\n",
    "    for_plot.plot.bar(figsize=figsize, grid=True, title=title, rot=0)"
   ]
  },
  {
   "cell_type": "markdown",
   "metadata": {},
   "source": [
    "#### months / week days / hours / minutes"
   ]
  },
  {
   "cell_type": "markdown",
   "metadata": {},
   "source": [
    "Fast all figures compare alice's and not alice's distributions of different of corresponding parameters."
   ]
  },
  {
   "cell_type": "code",
   "execution_count": 1568,
   "metadata": {},
   "outputs": [
    {
     "data": {
      "image/png": "[encoded data removed]",
      "text/plain": [
       "<Figure size 720x216 with 1 Axes>"
      ]
     },
     "metadata": {
      "needs_background": "light"
     },
     "output_type": "display_data"
    }
   ],
   "source": [
    "columns = ['month']\n",
    "df = df_train_transformed.loc[:, columns + ['target']] # see below\n",
    "pl_(df, title='month', figsize=(10,3))"
   ]
  },
  {
   "cell_type": "code",
   "execution_count": 1569,
   "metadata": {},
   "outputs": [
    {
     "data": {
      "text/plain": [
       "<matplotlib.axes._subplots.AxesSubplot at 0x7fabea3f6a50>"
      ]
     },
     "execution_count": 1569,
     "metadata": {},
     "output_type": "execute_result"
    },
    {
     "data": {
      "image/png": "[encoded data removed]",
      "text/plain": [
       "<Figure size 1152x216 with 1 Axes>"
      ]
     },
     "metadata": {
      "needs_background": "light"
     },
     "output_type": "display_data"
    }
   ],
   "source": [
    "columns = ['month', 'week']\n",
    "df_train_transformed[df_train_transformed['month'].isin([2,4,9]+list(range(9, 17)))\n",
    "                    ].loc[:, columns + ['target']].groupby('week')['target'].sum().plot.bar(figsize=(16,3), \n",
    "                                                                                            title='Alice\\'s weeks')"
   ]
  },
  {
   "cell_type": "markdown",
   "metadata": {},
   "source": [
    "Alice uses the internet not every month / week. "
   ]
  },
  {
   "cell_type": "code",
   "execution_count": 1570,
   "metadata": {},
   "outputs": [
    {
     "data": {
      "image/png": "[encoded data removed]",
      "text/plain": [
       "<Figure size 720x216 with 1 Axes>"
      ]
     },
     "metadata": {
      "needs_background": "light"
     },
     "output_type": "display_data"
    }
   ],
   "source": [
    "columns = ['hour']\n",
    "df = df_train_transformed.loc[:, columns + ['target']] # see below\n",
    "pl_(df, title='hours', figsize=(10,3))"
   ]
  },
  {
   "cell_type": "code",
   "execution_count": 212,
   "metadata": {},
   "outputs": [],
   "source": [
    "df = df_train_transformed.loc[:, ['hour', 'month', 'target']]\n",
    "all_ = pd.pivot_table(df, values='hour', index='target', columns='month', aggfunc='count')\n",
    "for_plot= pd.DataFrame([], index=range(1, 13))\n",
    "hours = [9, 12, 13, 15, 16, 17, 18]\n",
    "for h in hours:\n",
    "    tmp = pd.pivot_table(df[df.hour==h], values='hour', index='target', columns='month', aggfunc='count')\n",
    "    tmp = (tmp / all_.loc[:, tmp.columns]).T\n",
    "    for_plot = pd.concat([for_plot, tmp[1]/tmp[0]], axis=1)\n",
    "for_plot.columns = hours"
   ]
  },
  {
   "cell_type": "code",
   "execution_count": 1143,
   "metadata": {},
   "outputs": [
    {
     "data": {
      "image/png": "[encoded data removed]",
      "text/plain": [
       "<Figure size 1152x216 with 1 Axes>"
      ]
     },
     "metadata": {
      "needs_background": "light"
     },
     "output_type": "display_data"
    }
   ],
   "source": [
    "columns = ['minute']\n",
    "hour = 18\n",
    "df = df_train_transformed[df_train_transformed['hour']==hour].loc[:, columns + ['target']]\n",
    "pl_(df, title='miuntes, hour = '+str(hour))"
   ]
  },
  {
   "cell_type": "markdown",
   "metadata": {},
   "source": [
    "Minutes can be taken into account, as part of hour for example. And also multiplied on weekdays and hours."
   ]
  },
  {
   "cell_type": "code",
   "execution_count": 1571,
   "metadata": {},
   "outputs": [
    {
     "data": {
      "image/png": "[encoded data removed]",
      "text/plain": [
       "<Figure size 504x216 with 1 Axes>"
      ]
     },
     "metadata": {
      "needs_background": "light"
     },
     "output_type": "display_data"
    }
   ],
   "source": [
    "columns = ['weekday']\n",
    "df = df_train_transformed.loc[:, columns + ['target', 'month']] \n",
    "pl_(df, title='weekdays', figsize=(7,3))"
   ]
  },
  {
   "cell_type": "markdown",
   "metadata": {},
   "source": [
    "### Sites"
   ]
  },
  {
   "cell_type": "markdown",
   "metadata": {},
   "source": [
    "#### Number of unique sites in sessions"
   ]
  },
  {
   "cell_type": "code",
   "execution_count": 1393,
   "metadata": {},
   "outputs": [
    {
     "data": {
      "image/png": "[encoded data removed]",
      "text/plain": [
       "<Figure size 504x216 with 1 Axes>"
      ]
     },
     "metadata": {
      "needs_background": "light"
     },
     "output_type": "display_data"
    }
   ],
   "source": [
    "columns = ['#unique_sites']\n",
    "df = df_train_transformed.loc[:, columns + ['target']]\n",
    "pl_(df, title='#unique_sites', figsize=(7,3))"
   ]
  },
  {
   "cell_type": "markdown",
   "metadata": {},
   "source": [
    "#### Train / Test difference (new sites)"
   ]
  },
  {
   "cell_type": "code",
   "execution_count": 1540,
   "metadata": {},
   "outputs": [],
   "source": [
    "columns = ['site'+str(i) for i in range(1, 11)]\n",
    "train_sites = df_train.loc[:, columns].stack().dropna().astype(int).value_counts()\n",
    "test_sites = df_test.loc[:, columns].stack().dropna().astype(int).value_counts()\n",
    "alice=df_train[df_train.target==1].loc[:, columns].stack().dropna().astype(int).value_counts()"
   ]
  },
  {
   "cell_type": "code",
   "execution_count": 1541,
   "metadata": {},
   "outputs": [
    {
     "name": "stdout",
     "output_type": "stream",
     "text": [
      "new sites: 6770\n",
      "alice do not use more: 296\n"
     ]
    }
   ],
   "source": [
    "new = set(test_sites.index)-set(train_sites.index)\n",
    "print('new sites: {}'.format(len(new)))\n",
    "alice_do_not_use_more = set(alice.index) - set(test_sites.index)\n",
    "print('alice do not use more: {}'.format(len(alice_do_not_use_more)))"
   ]
  },
  {
   "cell_type": "code",
   "execution_count": 1542,
   "metadata": {},
   "outputs": [
    {
     "name": "stdout",
     "output_type": "stream",
     "text": [
      "the part of new sites in test: 0.04\n",
      "the part of top 5 sites: 0.18\n",
      "the part of top 10 sites: 0.28\n"
     ]
    }
   ],
   "source": [
    "tmp = test_sites[test_sites.index.isin(new)]\n",
    "tmp.index = tmp.index.map(lambda x: site_dict_rev[x]).values\n",
    "print('the part of new sites in test: {:.2f}'.format(tmp.sum()/test_sites.sum()))\n",
    "print('the part of top 5 sites: {:.2f}'.format(sum(test_sites.values[:5])/test_sites.sum()))\n",
    "print('the part of top 10 sites: {:.2f}'.format(sum(test_sites.values[:10])/test_sites.sum()))"
   ]
  },
  {
   "cell_type": "markdown",
   "metadata": {},
   "source": [
    "#### Sites frequncy"
   ]
  },
  {
   "cell_type": "code",
   "execution_count": 1394,
   "metadata": {},
   "outputs": [],
   "source": [
    "columns = ['site'+str(i) for i in range(1, 11)]\n",
    "site_frequqncy = df_train.loc[:, columns].stack().value_counts().sort_values(ascending=False)"
   ]
  },
  {
   "cell_type": "code",
   "execution_count": 1415,
   "metadata": {},
   "outputs": [
    {
     "data": {
      "text/plain": [
       "Text(0.5, 1.0, 'frequqncy < 100')"
      ]
     },
     "execution_count": 1415,
     "metadata": {},
     "output_type": "execute_result"
    },
    {
     "data": {
      "image/png": "[encoded data removed]",
      "text/plain": [
       "<Figure size 1152x216 with 2 Axes>"
      ]
     },
     "metadata": {
      "needs_background": "light"
     },
     "output_type": "display_data"
    }
   ],
   "source": [
    "fig, axes = plt.subplots(nrows=1, ncols=2, figsize=(16, 3))\n",
    "site_frequqncy[site_frequqncy>5000].hist(bins=100, ax=axes[0])\n",
    "site_frequqncy[site_frequqncy<100].hist(bins=100, ax=axes[1])\n",
    "axes[0].set_title('frequqncy > 5000')\n",
    "axes[1].set_title('frequqncy < 100')"
   ]
  },
  {
   "cell_type": "markdown",
   "metadata": {},
   "source": [
    "#### Unique sites as the user's activity indicator"
   ]
  },
  {
   "cell_type": "code",
   "execution_count": 1453,
   "metadata": {},
   "outputs": [],
   "source": [
    "alice_ = Alice(site_dict, site_dict_rev)\n",
    "alice_.fit(train_stacked, n=50)"
   ]
  },
  {
   "cell_type": "code",
   "execution_count": 1487,
   "metadata": {},
   "outputs": [],
   "source": [
    "months = [12, 13, 14, 15] \n",
    "train, test = [], []\n",
    "for m in months:\n",
    "    train.append(train_stacked[(train_stacked.site.isin(alice_.alice_unique_sites[m]))&\n",
    "                               (train_stacked.month<m)].shape[0])\n",
    "    test.append(train_stacked[(train_stacked.site.isin(alice_.alice_unique_sites[m]))&\n",
    "                               (train_stacked.month>=m)].shape[0])\n",
    "\n",
    "train.append(train_stacked[(train_stacked.target==1)&(train_stacked.site.isin(alice_.alice_unique_sites[16]))].shape[0])\n",
    "test.append(test_stacked[test_stacked.site.isin(alice_.alice_unique_sites[16])].shape[0])\n",
    "months = ['dec. 13', 'jan. 14', 'feb. 14', 'mar. 14', 'test']"
   ]
  },
  {
   "cell_type": "code",
   "execution_count": 1545,
   "metadata": {},
   "outputs": [
    {
     "data": {
      "text/plain": [
       "<matplotlib.axes._subplots.AxesSubplot at 0x7fabf73ac4d0>"
      ]
     },
     "execution_count": 1545,
     "metadata": {},
     "output_type": "execute_result"
    },
    {
     "data": {
      "image/png": "[encoded data removed]",
      "text/plain": [
       "<Figure size 720x216 with 1 Axes>"
      ]
     },
     "metadata": {
      "needs_background": "light"
     },
     "output_type": "display_data"
    }
   ],
   "source": [
    "pd.DataFrame([train, test], index=['train', 'validation'], columns=months).T.plot.bar(title='#Alice\\'s unique sites on train/validation sets', \n",
    "                                                                                      figsize=(10,3), rot=0 )"
   ]
  },
  {
   "cell_type": "markdown",
   "metadata": {},
   "source": [
    "Unique sites are taken into account automaticaly by vectorisation (bow or tfidf). Their additionally separation leads to overfitting.  But they can be used as an indicator of Alice's time activity. The idea was inplemented in classes Alice and GetSessions."
   ]
  },
  {
   "cell_type": "code",
   "execution_count": 1534,
   "metadata": {},
   "outputs": [
    {
     "data": {
      "image/png": "[encoded data removed]",
      "text/plain": [
       "<Figure size 864x216 with 3 Axes>"
      ]
     },
     "metadata": {
      "needs_background": "light"
     },
     "output_type": "display_data"
    }
   ],
   "source": [
    "fig, ax = plt.subplots(3, 1, figsize=(12, 3))\n",
    "\n",
    "df = alice_.df[(alice_.df.month>13)].copy()\n",
    "df.minutes_total = df.minutes_total.rank()\n",
    "df.hours_total = df.hours_total.rank()\n",
    "df.days_total = df.days_total.rank()\n",
    "\n",
    "# month>13 - validation, month<14 - train\n",
    "ax[0].scatter(df[df.site_id.isin(alice_.alice_unique_sites[13])].minutes_total, \n",
    "            np.ones(df[df.site_id.isin(alice_.alice_unique_sites[13])].shape[0]), s=5, c='green')\n",
    "ax[0].scatter(df.minutes_total, 2*np.ones(df.shape[0]), s=5, c='red')\n",
    "ax[0].set_title('minutes')\n",
    "minutes = (df[df.site_id.isin(alice_.alice_unique_sites[13])].minutes_total.unique().shape[0]/ \n",
    "           df.minutes_total.unique().shape[0])\n",
    "\n",
    "ax[1].scatter(df[df.site_id.isin(alice_.alice_unique_sites[13])].hours_total, \n",
    "            np.ones(df[df.site_id.isin(alice_.alice_unique_sites[13])].shape[0]), s=5, c='green')\n",
    "ax[1].scatter(df.hours_total, 2*np.ones(df.shape[0]), s=1, c='red')\n",
    "ax[1].set_title('hours')\n",
    "hours = (df[df.site_id.isin(alice_.alice_unique_sites[13])].hours_total.unique().shape[0]/ \n",
    "           df.hours_total.unique().shape[0])\n",
    "\n",
    "ax[2].scatter(df[df.site_id.isin(alice_.alice_unique_sites[13])].days_total, \n",
    "            np.ones(df[df.site_id.isin(alice_.alice_unique_sites[13])].shape[0]), s=5, c='green')\n",
    "ax[2].scatter(df.days_total, 2*np.ones(df.shape[0]), s=1, c='red')\n",
    "ax[2].set_title('days')\n",
    "days = (df[df.site_id.isin(alice_.alice_unique_sites[13])].days_total.unique().shape[0]/ \n",
    "           df.days_total.unique().shape[0])\n",
    "\n",
    "fig.tight_layout()\n",
    "for i in range(3):\n",
    "    ax[i].set_yticklabels([])\n",
    "    ax[i].set_xticklabels([])"
   ]
  },
  {
   "cell_type": "code",
   "execution_count": 1537,
   "metadata": {},
   "outputs": [
    {
     "name": "stdout",
     "output_type": "stream",
     "text": [
      "coverage test:\n",
      "minutes: 0.057, hours: 0.472, days: 0.750\n",
      "coverage train:\n",
      "minutes: 0.147, hours: 0.571, days: 0.867\n"
     ]
    }
   ],
   "source": [
    "# coverage\n",
    "print('coverage test:')\n",
    "print('minutes: {:.3f}, hours: {:.3f}, days: {:.3f}'.format(minutes, hours, days))\n",
    "\n",
    "df = alice_.df[(alice_.df.month<=13)].copy()\n",
    "df.minutes_total = df.minutes_total.rank()\n",
    "df.hours_total = df.hours_total.rank()\n",
    "df.days_total = df.days_total.rank()\n",
    "\n",
    "minutes = (df[df.site_id.isin(alice_.alice_unique_sites[13])].minutes_total.unique().shape[0]/ \n",
    "           df.minutes_total.unique().shape[0])\n",
    "hours = (df[df.site_id.isin(alice_.alice_unique_sites[13])].hours_total.unique().shape[0]/ \n",
    "           df.hours_total.unique().shape[0])\n",
    "days = (df[df.site_id.isin(alice_.alice_unique_sites[13])].days_total.unique().shape[0]/ \n",
    "           df.days_total.unique().shape[0])\n",
    "\n",
    "print('coverage train:')\n",
    "print('minutes: {:.3f}, hours: {:.3f}, days: {:.3f}'.format(minutes, hours, days))"
   ]
  },
  {
   "cell_type": "markdown",
   "metadata": {},
   "source": [
    "#### Platforms / services identification; Sites names pre-processing"
   ]
  },
  {
   "cell_type": "markdown",
   "metadata": {},
   "source": [
    "It is noticeable, that many sites names contains some additional ids-suffixes. eg.:\n",
    "<br>i1-js-14-3-01-10077-536503633-i.init.cedexis-radar.net -- > init.cedexis-radar.net\n",
    "<br>i1-js-14-3-01-11074-716595896-i.init.cedexis-radar.net <br> or\n",
    "<br>cid-82bc5a860b9d1ab8.users.storage.live.com -- > users.storage.live.com\n",
    "<br>cid-02b63548e1813f54.users.storage.live.com\n",
    "\n",
    "In some cases these additional suffixes play a role of user identificator, in some they are individual for each site visit. The variety of such id-s grows over time. On the one hand the individual identificators shoudn't be lost, on the other hand the information about services in new sites names in the test set could be also taken into account. So, some serviseces-space (eg. 'users.storage.live.com') can be extracted and additionally vectorized. The idea is implemented in the class ServiceVectorizer. "
   ]
  },
  {
   "cell_type": "code",
   "execution_count": 1583,
   "metadata": {},
   "outputs": [],
   "source": [
    "site_dict_rev[0] = '0'\n",
    "train_sites.index = train_sites.index.map(lambda x: site_dict_rev[x])\n",
    "test_sites.index = test_sites.index.map(lambda x: site_dict_rev[x])\n",
    "alice.index = alice.index.map(lambda x: site_dict_rev[x])\n",
    "new = set(test_sites.index)-set(train_sites.index)"
   ]
  },
  {
   "cell_type": "code",
   "execution_count": 1572,
   "metadata": {},
   "outputs": [],
   "source": [
    "service_frequency_ = pd.DataFrame(site_frequency, columns=['freq']).reset_index()\n",
    "service_frequency_['site'] = service_frequency_['index'].replace(site_dict_rev) "
   ]
  },
  {
   "cell_type": "code",
   "execution_count": null,
   "metadata": {},
   "outputs": [],
   "source": [
    "def f(service_frequency=service_frequency_, n=2):\n",
    "    res = service_frequency.copy()\n",
    "    res['site'] = res.site.map(lambda x: '.'.join(x.split('.')[-n:])).values \n",
    "    to_del = set(service_frequency.site.values)&set(res.site.values)\n",
    "    to_del = res[res.site.isin(to_del)].index\n",
    "    res.drop(to_del, inplace=True)\n",
    "    res = res.groupby('site')['freq'].sum().sort_values(ascending=False)\n",
    "    return res\n",
    "\n",
    "def g(s, sites):\n",
    "    counter = 0\n",
    "    for b in sites: \n",
    "        if s in b: counter+= 1\n",
    "    return counter"
   ]
  },
  {
   "cell_type": "code",
   "execution_count": 2138,
   "metadata": {},
   "outputs": [],
   "source": [
    "service_frequency = pd.concat([f(n=2), f(n=3), f(n=4)], axis = 0).sort_values(ascending=False)\n",
    "service_frequency = service_frequency[service_frequency>100] #500 #1\n",
    "service_frequency = pd.DataFrame(service_frequency, columns=['freq']).reset_index()\n",
    "service_frequency = service_frequency.groupby('site')['freq'].sum().sort_values(ascending=False)\n",
    "service_frequency = pd.DataFrame(service_frequency, columns=['freq']).reset_index()"
   ]
  },
  {
   "cell_type": "code",
   "execution_count": 2139,
   "metadata": {},
   "outputs": [],
   "source": [
    "service_frequency['in_train'] = service_frequency['site'].map(lambda x: g(x, train_sites.index))\n",
    "service_frequency['alice'] = service_frequency['site'].map(lambda x: g(x, alice.index))\n",
    "service_frequency['new_in_test'] = service_frequency['site'].map(lambda x: g(x, new))\n",
    "service_frequency = service_frequency.sort_values('in_train', ascending=False)\n",
    "service_frequency = service_frequency[(service_frequency.new_in_test>0)&\n",
    "                                      (service_frequency.in_train>10)& #10\n",
    "                                      (service_frequency.alice>0)]"
   ]
  },
  {
   "cell_type": "code",
   "execution_count": null,
   "metadata": {},
   "outputs": [],
   "source": [
    "# sites that can be aggregated\n",
    "to_agregate = service_frequency[service_frequency.alice==0].site.values"
   ]
  },
  {
   "cell_type": "markdown",
   "metadata": {},
   "source": [
    "Other selected services / specific top-level domains will be used for an additional session vectorization."
   ]
  },
  {
   "cell_type": "code",
   "execution_count": 2141,
   "metadata": {},
   "outputs": [],
   "source": [
    "services = service_frequency.site.values[2:]\n",
    "services_dict = {}\n",
    "counter = 0\n",
    "for s in services:\n",
    "    for a in site_dict_rev: \n",
    "        if s in site_dict_rev[a]: services_dict[a] = 's'+str(counter)\n",
    "    counter += 1 "
   ]
  },
  {
   "cell_type": "code",
   "execution_count": 2142,
   "metadata": {},
   "outputs": [],
   "source": [
    "no_in_test = {}\n",
    " \n",
    "for m in [13, 14, 15, 16]:\n",
    "    train = train_stacked[train_stacked.month<m].site.unique()\n",
    "    test = train_stacked[train_stacked.month>=m].site.unique()\n",
    "    no_in_test[m] = set(test) - set(train)\n",
    "train = train_stacked.site.unique()\n",
    "test = test_stacked.site.unique()\n",
    "no_in_test['test'] = set(test) - set(train)"
   ]
  },
  {
   "cell_type": "markdown",
   "metadata": {},
   "source": [
    "'init.cedexis-radar.net' has unique name und should be agregated:"
   ]
  },
  {
   "cell_type": "code",
   "execution_count": 384,
   "metadata": {},
   "outputs": [
    {
     "data": {
      "text/plain": [
       "6212"
      ]
     },
     "execution_count": 384,
     "metadata": {},
     "output_type": "execute_result"
    }
   ],
   "source": [
    "initcedexisradarnet = []\n",
    "counter = 0\n",
    "for k in site_dict_rev.keys():\n",
    "    if 'init.cedexis-radar.net' in  site_dict_rev[k]:\n",
    "        initcedexisradarnet.append(k)\n",
    "len(initcedexisradarnet)"
   ]
  },
  {
   "cell_type": "code",
   "execution_count": 2108,
   "metadata": {},
   "outputs": [],
   "source": [
    "to_agregate_ = []\n",
    "for a in to_agregate:\n",
    "    tmp = []\n",
    "    for k in site_dict_rev.keys():\n",
    "        if a in  site_dict_rev[k]:\n",
    "            tmp.append(k)\n",
    "    to_agregate_.append(tmp)"
   ]
  },
  {
   "cell_type": "markdown",
   "metadata": {},
   "source": [
    "## Feature preprocessing"
   ]
  },
  {
   "cell_type": "code",
   "execution_count": null,
   "metadata": {},
   "outputs": [],
   "source": [
    "# GetFeatures returns basic features as wekday, hour, number of unique sites pro session etc.  \n",
    "\n",
    "get_features = GetFeatures(initcedexisradarnet=initcedexisradarnet, to_agregate=to_agregate)\n",
    "df_train_transformed = get_features.transform(df_train,  minutes_step=10)\n",
    "df_test_transformed = get_features.transform(df_test,  minutes_step=10)\n",
    "\n",
    "df_train_transformed.to_csv(path_('train_transformed.csv'))\n",
    "df_test_transformed.to_csv(path_('test_transformed.csv'))"
   ]
  },
  {
   "cell_type": "code",
   "execution_count": 2144,
   "metadata": {},
   "outputs": [
    {
     "name": "stdout",
     "output_type": "stream",
     "text": [
      "CPU times: user 10h 38min, sys: 11min 34s, total: 10h 49min 34s\n",
      "Wall time: 10h 44min 34s\n"
     ]
    }
   ],
   "source": [
    "%%time\n",
    "get_features = GetFeatures(initcedexisradarnet=initcedexisradarnet, to_agregate=to_agregate)\n",
    "\n",
    "df_test_transformed = get_features.sites_agregator(df_test_transformed)\n",
    "df_train_transformed = get_features.sites_agregator(df_train_transformed)"
   ]
  },
  {
   "cell_type": "code",
   "execution_count": 2145,
   "metadata": {},
   "outputs": [],
   "source": [
    "df_test_transformed = get_features.replace_cedexis_radar(df_test_transformed)\n",
    "df_train_transformed = get_features.replace_cedexis_radar(df_train_transformed)"
   ]
  },
  {
   "cell_type": "code",
   "execution_count": 2146,
   "metadata": {},
   "outputs": [],
   "source": [
    "df_train_transformed.to_csv(path_('train_transformed_with_rep.csv'))\n",
    "df_test_transformed.to_csv(path_('test_transformed_with_rep.csv'))"
   ]
  },
  {
   "cell_type": "code",
   "execution_count": 2147,
   "metadata": {},
   "outputs": [],
   "source": [
    "y = df_train_transformed.target.values"
   ]
  },
  {
   "cell_type": "markdown",
   "metadata": {},
   "source": [
    "#### Data stacking"
   ]
  },
  {
   "cell_type": "markdown",
   "metadata": {},
   "source": [
    "For perfornance goals it is convinient to have stacked data representation."
   ]
  },
  {
   "cell_type": "code",
   "execution_count": 1162,
   "metadata": {},
   "outputs": [],
   "source": [
    "train_stacked = stack_df(df_train_transformed, target=True)\n",
    "test_stacked = stack_df(df_test_transformed)\n",
    "train_stacked.to_csv(path_('train_stacked.csv'))\n",
    "test_stacked.to_csv(path_('test_stacked.csv'))"
   ]
  },
  {
   "cell_type": "code",
   "execution_count": 2154,
   "metadata": {},
   "outputs": [],
   "source": [
    "train_stacked_cv = {}\n",
    "test_stacked_cv = {}\n",
    "\n",
    "for k in [13, 14, 15, 16]: \n",
    "    train_index = df_train_transformed[df_train_transformed['month']<k].index\n",
    "    test_index = df_train_transformed[df_train_transformed['month']>=k].index\n",
    "    train_stacked_cv[k] = stack_df(df_train_transformed.loc[train_index, :]) \n",
    "    test_stacked_cv[k] = stack_df(df_train_transformed.loc[test_index, :]) "
   ]
  },
  {
   "cell_type": "code",
   "execution_count": null,
   "metadata": {},
   "outputs": [],
   "source": [
    "train_stacked.to_csv(path_('train_stacked.csv'))\n",
    "test_stacked.to_csv(path_('test_stacked.csv'))"
   ]
  },
  {
   "cell_type": "markdown",
   "metadata": {},
   "source": [
    "resampling: "
   ]
  },
  {
   "cell_type": "code",
   "execution_count": 2155,
   "metadata": {},
   "outputs": [],
   "source": [
    "train_stacked_cv_resampled = {}\n",
    "resampler = Resampler(services_dict)\n",
    "\n",
    "for k in [13, 14, 15, 16]: \n",
    "    train_index = df_train_transformed[df_train_transformed['month']<k].index\n",
    "    test_index = df_train_transformed[df_train_transformed['month']>=k].index\n",
    "    df = pd.concat([df_train_transformed.loc[train_index, :],\n",
    "                    resampler.transform(df_train_transformed.loc[train_index, :], train_stacked_cv[k])[0]], axis=0)\n",
    "    train_stacked_cv_resampled[k] = stack_df(df) \n",
    "    \n",
    "df = pd.concat([df_train_transformed,\n",
    "                resampler.transform(df_train_transformed, train_stacked)[0]], axis=0)\n",
    "train_stacked_resampled = stack_df(df) "
   ]
  },
  {
   "cell_type": "markdown",
   "metadata": {},
   "source": [
    "### Features transformation"
   ]
  },
  {
   "cell_type": "code",
   "execution_count": 1231,
   "metadata": {},
   "outputs": [],
   "source": [
    "train_stacked = pd.read_csv(path_('train_stacked.csv'), index_col=0)\n",
    "test_stacked = pd.read_csv(path_('test_stacked.csv'), index_col=0)"
   ]
  },
  {
   "cell_type": "code",
   "execution_count": 1326,
   "metadata": {},
   "outputs": [],
   "source": [
    "df_train_transformed = df_train_transformed.reset_index(drop=True)\n",
    "df_test_transformed = df_test_transformed.reset_index(drop=True)"
   ]
  },
  {
   "cell_type": "code",
   "execution_count": 2157,
   "metadata": {},
   "outputs": [],
   "source": [
    "f = lambda x: x['week']*100+x['hour']\n",
    "df_train_transformed['week_hour'] = df_train_transformed.apply(f, axis=1)\n",
    "df_test_transformed['week_hour'] = df_test_transformed.apply(f, axis=1)\n",
    "f = lambda x: x['hour']*100+x['minute']\n",
    "df_train_transformed['minute_hour'] = df_train_transformed.apply(f, axis=1)\n",
    "df_test_transformed['minute_hour'] = df_test_transformed.apply(f, axis=1)"
   ]
  },
  {
   "cell_type": "markdown",
   "metadata": {},
   "source": [
    "#### Sessions vectorization"
   ]
  },
  {
   "cell_type": "markdown",
   "metadata": {},
   "source": [
    "Some ideas of sessions vectorisation were tested, for example: \n",
    "- vectorisation on splitted  per dot site names, \n",
    "- on an additional vector space on services (sites names with an id-suffix, such as 'users.storage.live.com' or 'blogpost.fr’), that was constructed to deal with site names in the test set, that do not come across in the train set. Also for this purpose also was implemented a resampling of the train data, that imitated new sites in the test set. \n",
    "\n",
    "It turned out, that a combination of simple bag of words on sessions with pre-processed site names (each site name - one word) and an additional tf-idf one on the set of common sites give the best performance (for both n-garamm = (1,1))."
   ]
  },
  {
   "cell_type": "markdown",
   "metadata": {},
   "source": [
    "The final feature space consists of 5 blocks: <br>\n",
    "- one-hot encoded features <br>\n",
    "- numeric features  <br>\n",
    "- bag of words on sessions with (1, 1) n-gramms: class Vectoriser  <br>\n",
    "- probable days of Alice's activity: class UniqueSites  <br>\n",
    "- tf-idf on an additional vectorisation on the space of sites, common for both kind of users. \n",
    "\n",
    "These steps are packed in the class PipeLine."
   ]
  },
  {
   "cell_type": "code",
   "execution_count": 2170,
   "metadata": {},
   "outputs": [],
   "source": [
    "class UniqueSites:\n",
    "    \"\"\"\n",
    "    on the base of lists of unique sits, that were got on the training set,\n",
    "    returns time periods of alice's activity on the test set, as well as \n",
    "    vecror representation of uniqke sites\n",
    "    \"\"\"\n",
    "    def __init__(self, alice_, gs):\n",
    "        self.alice_ = alice_\n",
    "        self.gs = gs\n",
    "        self.common = {}\n",
    "    def fit(self, df_stacked):\n",
    "        m = df_stacked.month.max()\n",
    "        self.alice_unique_sites = self.alice_.alice_unique_sites[m]\n",
    "        self.not_alice_unique_sites = self.alice_.not_alice_unique_sites[m]\n",
    "        self.common = self.alice_.common[m]\n",
    "    def transform(self, df_stacked):\n",
    "        \n",
    "        minutes = df_stacked[df_stacked['site'].isin(self.alice_unique_sites)]['minutes_total'].unique()\n",
    "        hours = df_stacked[df_stacked['site'].isin(self.alice_unique_sites)]['hours_total'].unique()\n",
    "        days = df_stacked[df_stacked['site'].isin(self.alice_unique_sites)]['days_total'].unique()\n",
    "        \n",
    "        sites = self.gs.sites(df_stacked, self.alice_unique_sites)\n",
    "        sites_not_alice = self.gs.sites(df_stacked, self.not_alice_unique_sites)\n",
    "        \n",
    "        minutes = self.gs.minutes(df_stacked, minutes)\n",
    "        hours = self.gs.hours(df_stacked, hours)\n",
    "        days = self.gs.days(df_stacked, days) # - 1\n",
    "        return np.vstack([\n",
    "            #sites, \n",
    "            #sites_not_alice, \n",
    "            #minutes, \n",
    "            #hours, \n",
    "            days\n",
    "        ])"
   ]
  },
  {
   "cell_type": "markdown",
   "metadata": {},
   "source": [
    "#### Feature transformation pipeline"
   ]
  },
  {
   "cell_type": "code",
   "execution_count": 2661,
   "metadata": {
    "scrolled": true
   },
   "outputs": [],
   "source": [
    "class PipeLine:\n",
    "    def __init__(self, classifier, vectorizer, sv, nv, us, no_transformation, oh_features, resampler):\n",
    "        self.vectorizer = vectorizer\n",
    "        self.classifier = classifier\n",
    "        self.no_transformation = no_transformation\n",
    "        self.oh_features = oh_features\n",
    "        self.no_in_test = no_in_test\n",
    "        self.oh = OneHotEncoder(handle_unknown='ignore')\n",
    "        self.nv = nv\n",
    "        self.sv = sv\n",
    "        self.us = us\n",
    "        self.resampler = resampler\n",
    "        self.columns = ['site'+str(i) for i in range(1, 11)]        \n",
    "    def hstack(self, df, df_stacked):\n",
    "        oh = self.oh.transform(df.loc[:, self.oh_features])\n",
    "        d = self.us.transform(df_stacked).T\n",
    "        dd = np.broadcast_to(d, oh.shape)\n",
    "        return csr_matrix(hstack([self.vectorizer.transform(df),\n",
    "                                  self.nv.transform(df), \n",
    "                                  #self.sv.transform(df), \n",
    "                                  oh, \n",
    "                                  csr_matrix(d),\n",
    "                                  #oh*dd,\n",
    "                                  csr_matrix(df.loc[:, self.no_transformation].values),\n",
    "                                 ]))\n",
    "    def sampler(self, df, y_train, train_index, test_index, df_stacked, m='test'):\n",
    "        self.X_train, self.X_test = df.loc[train_index, :], df.loc[test_index, :]\n",
    "        self.y_train, self.y_test = y_train[train_index], y_train[test_index] \n",
    "\n",
    "        tmp, y_tmp = self.resampler.transform(self.X_train, df_stacked)\n",
    "        self.X_train = pd.concat([self.X_train, tmp], axis=0).reset_index(drop=True)\n",
    "        self.y_train = np.hstack([self.y_train, y_tmp])\n",
    "\n",
    "        # no in train\n",
    "        shape = self.X_test.loc[:, self.columns].shape\n",
    "        X = self.X_test.loc[:, self.columns].values.flatten()\n",
    "        X = np.where(np.isin(X, self.no_in_test[m]), -3, X).reshape(shape)\n",
    "        self.X_test.loc[:, self.columns] = X\n",
    "    def set_input(self, X_train, X_test, y, df_stacked):\n",
    "        self.X_train, self.X_test = X_train, X_test\n",
    "        self.y_train = y\n",
    "        tmp, y_tmp = self.resampler.transform(self.X_train, df_stacked)\n",
    "        self.X_train = pd.concat([self.X_train, tmp], axis=0).reset_index(drop=True)\n",
    "        self.y_train = np.hstack([y, y_tmp])\n",
    "        shape = self.X_test.loc[:, self.columns].shape\n",
    "        X = self.X_test.loc[:, self.columns].values.flatten()\n",
    "        X = np.where(np.isin(X, self.no_in_test[m]), -3, X).reshape(shape)\n",
    "        self.X_test.loc[:, self.columns] = X\n",
    "    def fit(self, train_stacked):\n",
    "        self.vectorizer.fit(self.X_train)\n",
    "        self.oh.fit(self.X_train.loc[:, self.oh_features])\n",
    "        self.sv.fit(self.X_train)\n",
    "        self.us.fit(train_stacked)\n",
    "        self.nv.fit(self.X_train, self.us)\n",
    "        X_train = self.hstack(self.X_train, train_stacked)\n",
    "        self.classifier.fit(X_train, self.y_train)\n",
    "    def predict_proba(self, df_stacked_test):\n",
    "        X_test = self.hstack(self.X_test, df_stacked_test)\n",
    "        return self.classifier.predict_proba(X_test).T[1]\n",
    "    def scores(self, df_stacked_test):\n",
    "        X_test = self.hstack(self.X_test, df_stacked_test)\n",
    "        y_pred = self.classifier.predict_proba(X_test).T[1]\n",
    "        score = roc_auc_score(self.y_test, y_pred) \n",
    "        return score"
   ]
  },
  {
   "cell_type": "code",
   "execution_count": 2158,
   "metadata": {},
   "outputs": [],
   "source": [
    "no_transformation = ['s_0', 's_more_3', 'session_timespan'] \n",
    "oh_features = ['#unique_sites', 'weekday', 'hour',  'minute_hour', 'week_hour']"
   ]
  },
  {
   "cell_type": "markdown",
   "metadata": {},
   "source": [
    "## Classification"
   ]
  },
  {
   "cell_type": "code",
   "execution_count": 2159,
   "metadata": {},
   "outputs": [],
   "source": [
    "# cross validation on months\n",
    "\n",
    "def cv_roc_auc(pl, X_train, y_train, kfolds=None):\n",
    "    scores = [] \n",
    "    for k in [13, 14, 15, 16]: \n",
    "        train_index = X_train[X_train['month']<k].index\n",
    "        test_index = X_train[X_train['month']>=k].index\n",
    "        pl.sampler(X_train, y_train, train_index, test_index, train_stacked_cv[k], k)\n",
    "        pl.fit(train_stacked_cv_resampled[k])\n",
    "        score = pl.scores(test_stacked_cv[k])\n",
    "        #print(score)\n",
    "        scores.append(score)\n",
    "    print('{:.4f}'.format(np.array(scores).mean()))\n",
    "    return scores \n",
    "\n",
    "gs = GetSessions()\n",
    "resampler = Resampler(services_dict)"
   ]
  },
  {
   "cell_type": "markdown",
   "metadata": {},
   "source": [
    "The baseline of classifiers consisted of: SGD, SVM, Random Forest, Linear Regression, Vowpal Wabbit.  The best performance showed lineal regression."
   ]
  },
  {
   "cell_type": "markdown",
   "metadata": {},
   "source": [
    "### SGD"
   ]
  },
  {
   "cell_type": "code",
   "execution_count": 2551,
   "metadata": {},
   "outputs": [
    {
     "name": "stdout",
     "output_type": "stream",
     "text": [
      "0.9748\n"
     ]
    },
    {
     "data": {
      "text/plain": [
       "[0.964731519953885, 0.9678275236827556, 0.9813549459782399, 0.9852047768184917]"
      ]
     },
     "execution_count": 2551,
     "metadata": {},
     "output_type": "execute_result"
    }
   ],
   "source": [
    "sgd_logit = SGDClassifier(loss='log', random_state=17,  n_jobs=-1)\n",
    "nv = NgramVectorizer(type_='tfidf', ngram_range=(1, 1))\n",
    "sv = ServiceVectorizer(services_dict)\n",
    "us = UniqueSites(alice_, gs)\n",
    "pl = PipeLine(classifier=sgd_logit, vectorizer=vectorizer, sv=sv, nv=nv, us=us, no_transformation=no_transformation, \n",
    "              oh_features=oh_features, resampler=resampler)\n",
    "cv_roc_auc(pl, df_train_transformed, y, kfolds=4)"
   ]
  },
  {
   "cell_type": "markdown",
   "metadata": {},
   "source": [
    "### SVM"
   ]
  },
  {
   "cell_type": "code",
   "execution_count": null,
   "metadata": {},
   "outputs": [],
   "source": [
    "svm =  SVC(kernel='linear', C=0.5, random_state=17, probability=True)\n",
    "nv = NgramVectorizer(type_='tfidf', ngram_range=(1, 2))\n",
    "sv = ServiceVectorizer(services_dict)\n",
    "us = UniqueSites(alice_, gs)\n",
    "pl = PipeLine(classifier=svm, vectorizer=vectorizer, sv=sv, nv=nv, us=us, no_transformation=no_transformation, \n",
    "              oh_features=oh_features, resampler=resampler)\n",
    "cv_roc_auc(pl, df_train_transformed, y)"
   ]
  },
  {
   "cell_type": "markdown",
   "metadata": {},
   "source": [
    "### Logistic Regression"
   ]
  },
  {
   "cell_type": "code",
   "execution_count": 2163,
   "metadata": {},
   "outputs": [],
   "source": [
    "# n - frequency of site of visiting, that limits comon sites space\n",
    "\n",
    "alice_ = Alice(site_dict, site_dict_rev)\n",
    "alice_.fit(train_stacked, n=10000) "
   ]
  },
  {
   "cell_type": "code",
   "execution_count": 2634,
   "metadata": {},
   "outputs": [
    {
     "name": "stdout",
     "output_type": "stream",
     "text": [
      "0.9787\n",
      "C=0.1: [0.967878254236322, 0.9713767367417507, 0.9864042314418098, 0.9892112471770403]\n",
      "0.9798\n",
      "C=0.3: [0.9693433351729174, 0.9729959297422356, 0.9872411293127819, 0.9895800696155033]\n",
      "0.9799\n",
      "C=0.5: [0.9694787672060701, 0.9732931318170861, 0.9873213921650844, 0.9895389226612993]\n",
      "0.9799\n",
      "C=0.75: [0.9693403595419515, 0.973346155181841, 0.9872888469577883, 0.9894444132508622]\n",
      "0.9797\n",
      "C=1: [0.9691169059860965, 0.9732761417799273, 0.9872184691785393, 0.9893667269440971]\n",
      "0.9792\n",
      "C=2: [0.9681307474102314, 0.9727331576830076, 0.9868646262562253, 0.9890983073600328]\n",
      "0.9787\n",
      "C=3: [0.9672880450918769, 0.9721168268161976, 0.986511867079462, 0.9888617123733605]\n"
     ]
    }
   ],
   "source": [
    "for C in [0.1, 0.3, 0.5, 0.75, 1, 2, 3]:\n",
    "    logit = LogisticRegression(C=C, random_state=17, solver='liblinear') \n",
    "    vectorizer = Vectorizer(vectorizer_='bow', ngram_range=(1, 1))\n",
    "    nv = NgramVectorizer(type_='tfidf', ngram_range=(1, 1))\n",
    "    sv = ServiceVectorizer(services_dict)\n",
    "    us = UniqueSites(alice_, gs)\n",
    "    pl = PipeLine(classifier=logit, vectorizer=vectorizer, sv=sv, nv=nv, us=us, no_transformation=no_transformation, \n",
    "                  oh_features=oh_features, resampler=resampler)\n",
    "    print('C={}: {}'.format(C, cv_roc_auc(pl, df_train_transformed, y)))"
   ]
  },
  {
   "cell_type": "code",
   "execution_count": null,
   "metadata": {
    "scrolled": true
   },
   "outputs": [
    {
     "name": "stdout",
     "output_type": "stream",
     "text": [
      "(96275, 399) (96275, 1) (96275, 399)\n"
     ]
    }
   ],
   "source": [
    "logit = LogisticRegression(C=0.75, random_state=17, solver='liblinear') \n",
    "vectorizer = Vectorizer(vectorizer_='bow', ngram_range=(1, 1))\n",
    "nv = NgramVectorizer(type_='tfidf', ngram_range=(1, 1))\n",
    "sv = ServiceVectorizer(services_dict)\n",
    "us = UniqueSites(alice_, gs)\n",
    "pl = PipeLine(classifier=logit, vectorizer=vectorizer, sv=sv, nv=nv, us=us, no_transformation=no_transformation, \n",
    "              oh_features=oh_features, resampler=resampler)\n",
    "cv_roc_auc(pl, df_train_transformed, y)"
   ]
  },
  {
   "cell_type": "code",
   "execution_count": null,
   "metadata": {},
   "outputs": [],
   "source": [
    "0.9784 + days + ngramms (tfidf 1,2  n=10000)\n",
    "0.9783 + days + ngramms (tfidf 1,2  n=5000)\n",
    "0.9782 + days + ngramms (tfidf 1, 1 or 1,2  n=1000)\n",
    "0.9776 + days + ngramms (tfidf 2, 3) 0.97075 \n",
    "0.9764 + days + unique alice + unique not alice \n",
    "0.9715 + days + hours\n",
    "0.9772 + days  0.9703  !!\n",
    "0.9711 + hours - overfitting\n",
    "0.9603 + minutes\n",
    "0.9604 base: c=3 + ngramms + sv"
   ]
  },
  {
   "cell_type": "markdown",
   "metadata": {},
   "source": [
    "### LB prediction"
   ]
  },
  {
   "cell_type": "code",
   "execution_count": 2635,
   "metadata": {},
   "outputs": [],
   "source": [
    "logit = LogisticRegression(C=0.5, random_state=17, solver='liblinear') \n",
    "vectorizer = Vectorizer(vectorizer_='bow', ngram_range=(1, 1))\n",
    "nv = NgramVectorizer(type_='tfidf', ngram_range=(1, 1))\n",
    "sv = ServiceVectorizer(services_dict)\n",
    "us = UniqueSites(alice_, gs)\n",
    "pl = PipeLine(classifier=logit, vectorizer=vectorizer, sv=sv, nv=nv, us=us, no_transformation=no_transformation, \n",
    "              oh_features=oh_features, resampler=resampler)\n",
    "\n",
    "pl.set_input(df_train_transformed, df_test_transformed, y, train_stacked)\n",
    "pl.fit(train_stacked_resampled)\n",
    "logit_test_pred_proba = pl.predict_proba(test_stacked)\n",
    "write_to_submission_file(logit_test_pred_proba, 'results.csv')"
   ]
  },
  {
   "cell_type": "markdown",
   "metadata": {},
   "source": [
    "### Vowpal Wabbit"
   ]
  },
  {
   "cell_type": "code",
   "execution_count": 2184,
   "metadata": {},
   "outputs": [],
   "source": [
    "no_transformation = ['s_0', 's_more_3', 'session_timespan'] \n",
    "oh_features = ['#unique_sites', 'weekday', 'hour',  'minute_hour', 'week_hour'] \n",
    "sites = ['site'+str(i) for i in range(1, 11)] "
   ]
  },
  {
   "cell_type": "code",
   "execution_count": 2606,
   "metadata": {},
   "outputs": [],
   "source": [
    "m = 14\n",
    "train_index = df_train_transformed[df_train_transformed['month']<m].index\n",
    "test_index = df_train_transformed[df_train_transformed['month']>=m].index\n",
    "\n",
    "pl.sampler(df_train_transformed, y, train_index, test_index, train_stacked_cv[m], m=m)\n",
    "X_train = pl.X_train\n",
    "y_train_part = pl.y_train\n",
    "X_valid = pl.X_test\n",
    "y_valid = pl.y_test\n",
    "pl.set_input(df_train_transformed, df_test_transformed, y, train_stacked)\n",
    "X_train_full = pl.X_train\n",
    "y_train_full = pl.y_train\n",
    "X_test = pl.X_test"
   ]
  },
  {
   "cell_type": "code",
   "execution_count": 2608,
   "metadata": {},
   "outputs": [],
   "source": [
    "columns = [sites, oh_features, no_transformation]\n",
    "XX_train = []\n",
    "XX_valid = []\n",
    "XX_train_full = []\n",
    "XX_test_full = []\n",
    "for cc in columns: \n",
    "    XX_train.append(X_train[cc])\n",
    "    XX_valid.append(X_valid[cc])\n",
    "    XX_train_full.append(X_train_full[cc])\n",
    "    XX_test_full.append(X_test[cc])\n",
    "y_train = np.where(y_train_part==0, -1, y_train_part)\n",
    "y_valid = np.where(y_valid==0, -1, y_valid)\n",
    "y_full = np.where(y_train_full==0, -1, y_train_full)\n",
    "\n",
    "k=10.1\n",
    "weights = y_train_full*k + 1\n",
    "weights_train = y_train_part*k + 1"
   ]
  },
  {
   "cell_type": "code",
   "execution_count": 2609,
   "metadata": {},
   "outputs": [],
   "source": [
    "def g(XX, df, df_stacked):\n",
    "    #XX.append(pd.DataFrame(nv.get(df).reshape(1, -1).T))\n",
    "    XX.append(pd.DataFrame(us.transform(df_stacked).T))\n",
    "    #XX.append(pd.DataFrame(sv.get(df).reshape(1, -1).T))"
   ]
  },
  {
   "cell_type": "code",
   "execution_count": 2610,
   "metadata": {},
   "outputs": [],
   "source": [
    "sv.fit(X_train)\n",
    "us.fit(train_stacked_cv[m])\n",
    "nv.fit(X_train, us)\n",
    "\n",
    "g(XX_train, X_train, train_stacked_cv_resampled[m])\n",
    "g(XX_valid, X_valid, test_stacked_cv[m])"
   ]
  },
  {
   "cell_type": "code",
   "execution_count": 2611,
   "metadata": {},
   "outputs": [],
   "source": [
    "sv.fit(X_train_full)\n",
    "us.fit(train_stacked_resampled)\n",
    "nv.fit(X_train_full, us)\n",
    "\n",
    "g(XX_train_full, X_train_full, train_stacked_resampled)\n",
    "g(XX_test_full, X_test, test_stacked)"
   ]
  },
  {
   "cell_type": "code",
   "execution_count": 2612,
   "metadata": {},
   "outputs": [],
   "source": [
    "def arrays_to_vw(XX_, y_=None, weights=None, train=True, out_file='tmp.vw', words=False):\n",
    "    XX = [0]*len(XX_)\n",
    "    for i in range(len(XX_)):\n",
    "        XX[i] = XX_[i].values.astype('str')\n",
    "    if y_ is not None : \n",
    "        y = np.char.mod('%d', y_)\n",
    "        w = np.char.mod('%d', weights)\n",
    "        flag = True\n",
    "    else: flag = False    \n",
    "    namespaces = ['bos', 'cat', 'num', 'us'] #'sv', 'nv', \n",
    "    g = np.vectorize(lambda x: ' '.join(site_dict_rev[int(x)].split('.'))) \n",
    "    with open(out_file, \"w\") as f: \n",
    "        for i in range(XX[0].shape[0]): \n",
    "            vw_object = ''\n",
    "            for k, n in enumerate(namespaces):\n",
    "                X = XX[k]\n",
    "                if words and n == 'bos': \n",
    "                    vw_object += \" |{} {}\".format(n, ' '.join(g([X[i]])[0]))\n",
    "                else: vw_object += \" |{} {}\".format(n, ' '.join(X[i]))\n",
    "            if flag: f.write(' '.join([str(y[i]), str(w[i])]) +  vw_object + '\\n')\n",
    "            else: f.write('1' +  vw_object + '\\n')    "
   ]
  },
  {
   "cell_type": "code",
   "execution_count": 2613,
   "metadata": {},
   "outputs": [],
   "source": [
    "train_part_vw = os.path.join(PATH_TO_DATA, 'train_part.vw')\n",
    "valid_vw = os.path.join(PATH_TO_DATA, 'valid.vw')\n",
    "train_vw = os.path.join(PATH_TO_DATA, 'train.vw')\n",
    "test_vw = os.path.join(PATH_TO_DATA, 'test.vw')\n",
    "model = os.path.join(PATH_TO_DATA, 'vw_model.vw')\n",
    "pred = os.path.join(PATH_TO_DATA, 'vw_pred.csv')"
   ]
  },
  {
   "cell_type": "code",
   "execution_count": 2614,
   "metadata": {},
   "outputs": [],
   "source": [
    "flag=False\n",
    "arrays_to_vw(XX_train, y_=y_train, weights=weights_train, train=True, out_file=train_part_vw, words=flag)\n",
    "arrays_to_vw(XX_valid, train=False, out_file=valid_vw, words=flag)\n",
    "arrays_to_vw(XX_train_full, y_=y_full, weights=weights, train=True, out_file=train_vw, words=flag)\n",
    "arrays_to_vw(XX_test_full, train=False, out_file=test_vw, words=flag)"
   ]
  },
  {
   "cell_type": "code",
   "execution_count": 2615,
   "metadata": {},
   "outputs": [
    {
     "name": "stdout",
     "output_type": "stream",
     "text": [
      "-1 1 |bos 56 55 0 0 0 0 0 0 0 0 |cat 2 5 8 800 8 |num 1.0 0.0 0.0 |us 0.0\r\n",
      "-1 1 |bos 56 55 56 55 0 0 0 0 0 0 |cat 2 5 8 803 8 |num 1.0 1.0 7.488293515159428 |us 0.0\r\n",
      "-1 1 |bos 946 946 951 946 946 945 948 784 949 946 |cat 6 5 8 805 8 |num 5.0 0.0 1.6094379124341003 |us 0.0\r\n"
     ]
    }
   ],
   "source": [
    "!head -3 $PATH_TO_DATA/train_part.vw"
   ]
  },
  {
   "cell_type": "code",
   "execution_count": 2616,
   "metadata": {},
   "outputs": [
    {
     "name": "stdout",
     "output_type": "stream",
     "text": [
      "1 |bos 29 35 22 321 23 2211 6730 21 44582 15336 |cat 10 5 11 1101 9011 |num 7.0 1.0 2.0794415416798357 |us 1.0\r\n",
      "1 |bos 782 782 782 782 782 782 782 782 782 782 |cat 1 3 11 1100 7711 |num 0.0 6.0 4.454347296253507 |us 0.0\r\n",
      "1 |bos 55 55 55 55 55 55 55 55 1445 1445 |cat 2 4 15 1505 9915 |num 0.0 2.0 4.442651256490317 |us 1.0\r\n"
     ]
    }
   ],
   "source": [
    "!head -3 $PATH_TO_DATA/test.vw"
   ]
  },
  {
   "cell_type": "code",
   "execution_count": null,
   "metadata": {},
   "outputs": [],
   "source": [
    "#--ngram c2 --ngram n2  --ngram=2"
   ]
  },
  {
   "cell_type": "code",
   "execution_count": 2629,
   "metadata": {
    "scrolled": true
   },
   "outputs": [
    {
     "name": "stdout",
     "output_type": "stream",
     "text": [
      "[info] Generating 2-grams for all namespaces.\n",
      "final_regressor = data/vw-modell-uebung.vw.bin\n",
      "Num weight bits = 26\n",
      "learning rate = 0.05\n",
      "initial_t = 0\n",
      "power_t = 0.5\n",
      "decay_learning_rate = 0.95\n",
      "creating cache_file = data/vw.cache\n",
      "Reading datafile = data/train_part.vw\n",
      "num sources = 1\n",
      "Enabled reductions: gd, scorer\n",
      "average  since         example        example  current  current  current\n",
      "loss     last          counter         weight    label  predict features\n",
      "0.693147 0.693147            1            1.0  -1.0000   0.5000       35\n",
      "0.606522 0.519897            2            2.0  -1.0000   0.4054       35\n",
      "0.603106 0.599691            4            4.0  -1.0000   0.4260       35\n",
      "0.535496 0.467885            8            8.0  -1.0000   0.3497       35\n",
      "0.493410 0.451324           16           16.0  -1.0000   0.3334       35\n",
      "0.445880 0.398351           32           32.0  -1.0000   0.2415       35\n",
      "0.366325 0.286769           64           64.0  -1.0000   0.0932       35\n",
      "0.304096 0.241868          128          128.0  -1.0000   0.2266       35\n",
      "0.235655 0.167213          256          256.0  -1.0000   0.0933       35\n",
      "0.175359 0.115063          512          512.0  -1.0000   0.1331       35\n",
      "0.120715 0.066071         1024         1024.0  -1.0000   0.0350       35\n",
      "0.075452 0.030189         2048         2048.0  -1.0000   0.0538       35\n",
      "0.225624 0.375795         3566         4096.0  -1.0000   0.0463       35\n",
      "0.210294 0.194969         7353         8193.0   1.0000   0.3236       35\n",
      "0.137892 0.065490        15456        16386.0  -1.0000   0.0739       35\n",
      "0.159822 0.181752        27872        32772.0  -1.0000   0.0018       35\n",
      "0.157667 0.155511        57244        65544.0  -1.0000   0.0072       35\n",
      "0.126928 0.096190       115568       131088.0  -1.0000   0.0053       35\n",
      "0.104141 0.104141       233915       262185.0   1.0000   0.9205       35 h\n",
      "0.088472 0.072810       465870       524370.0  -1.0000   0.0001       35 h\n",
      "0.072810 0.057132       931100      1048740.0  -1.0000   0.0011       35 h\n",
      "0.061971 0.051132      1863760      2097480.0  -1.0000   0.0348       35 h\n",
      "0.054067 0.046168      3730660      4194960.0  -1.0000   0.0008       35 h\n",
      "0.049102 0.044138      7457443      8389923.0   1.0000   0.8391       35 h\n",
      "\n",
      "finished run\n",
      "number of examples per pass = 129545\n",
      "passes used = 64\n",
      "weighted example sum = 9327040.000000\n",
      "weighted label sum = -7047488.000000\n",
      "average loss = 0.043558 h\n",
      "best constant = -1.971748\n",
      "best constant's loss = 0.371288\n",
      "total feature number = 290180800\n",
      "CPU times: user 479 ms, sys: 334 ms, total: 813 ms\n",
      "Wall time: 34.1 s\n"
     ]
    }
   ],
   "source": [
    "%%time\n",
    "! (rm $PATH_TO_DATA/vw.cache || exit 0)\n",
    "! vw --final_regressor $PATH_TO_DATA/vw-modell-uebung.vw.bin $PATH_TO_DATA/train_part.vw \\\n",
    "     --loss_function logistic --link logistic --ngram=2 --decay_learning_rate=.95 \\\n",
    "     --learning_rate 0.05 --bit_precision 26 --passes 100 --cache_file $PATH_TO_DATA/vw.cache --random_seed 17"
   ]
  },
  {
   "cell_type": "code",
   "execution_count": 2630,
   "metadata": {
    "scrolled": true
   },
   "outputs": [],
   "source": [
    "!vw -i $PATH_TO_DATA/vw-modell-uebung.vw.bin -t -d $PATH_TO_DATA/valid.vw \\\n",
    "    -p $PATH_TO_DATA/vw_pred.csv  --quiet"
   ]
  },
  {
   "cell_type": "code",
   "execution_count": 2631,
   "metadata": {},
   "outputs": [
    {
     "name": "stdout",
     "output_type": "stream",
     "text": [
      "0.9695\n"
     ]
    }
   ],
   "source": [
    "y_pred = pd.read_csv(os.path.join(PATH_TO_DATA, 'vw_pred.csv'), header=None).values\n",
    "print('{:.4f}'.format(roc_auc_score(y_valid, y_pred)))"
   ]
  },
  {
   "cell_type": "code",
   "execution_count": null,
   "metadata": {},
   "outputs": [],
   "source": [
    "vw: 0.9695\n",
    "log reg: 0.97334"
   ]
  },
  {
   "cell_type": "code",
   "execution_count": 2455,
   "metadata": {},
   "outputs": [],
   "source": [
    "! (rm $PATH_TO_DATA/vw.cache || exit 0)\n",
    "! vw --final_regressor $PATH_TO_DATA/vw-modell-uebung.vw.bin $PATH_TO_DATA/train.vw \\\n",
    "     --loss_function logistic --link logistic --decay_learning_rate=.95 \\\n",
    "     --learning_rate 0.05 --bit_precision 26 --passes 70 --cache_file $PATH_TO_DATA/vw.cache --random_seed 17 --quiet\n",
    "! vw -i $PATH_TO_DATA/vw-modell-uebung.vw.bin -t -d $PATH_TO_DATA/test.vw \\\n",
    "     -p $PATH_TO_DATA/vw_pred.csv --quiet"
   ]
  },
  {
   "cell_type": "code",
   "execution_count": 2456,
   "metadata": {},
   "outputs": [],
   "source": [
    "write_to_submission_file(pd.read_csv(os.path.join(PATH_TO_DATA, 'vw_pred.csv'), header=None).values, 'results_vw.csv')"
   ]
  },
  {
   "cell_type": "markdown",
   "metadata": {},
   "source": [
    "## Library"
   ]
  },
  {
   "cell_type": "code",
   "execution_count": 2117,
   "metadata": {},
   "outputs": [],
   "source": [
    "%%writefile alice_lib_0.py\n",
    "\n",
    "from __future__ import division, print_function\n",
    "\n",
    "import warnings\n",
    "warnings.filterwarnings('ignore')\n",
    "\n",
    "import glob\n",
    "import os\n",
    "from tqdm import tqdm_notebook\n",
    "\n",
    "import numpy as np\n",
    "from scipy.sparse import csr_matrix, hstack\n",
    "import pandas as pd\n",
    "pd.set_option('display.max.columns', 25)\n",
    "import pickle\n",
    "import seaborn as sns\n",
    "import datetime\n",
    "\n",
    "from collections import Counter\n",
    "\n",
    "from scipy.sparse import csr_matrix, hstack\n",
    "from sklearn.model_selection import train_test_split, GridSearchCV, TimeSeriesSplit\n",
    "from sklearn.linear_model import SGDClassifier\n",
    "from sklearn.metrics import roc_auc_score\n",
    "\n",
    "from sklearn.feature_extraction.text import TfidfVectorizer, CountVectorizer\n",
    "from sklearn.feature_extraction.text import TfidfVectorizer, CountVectorizer\n",
    "from random import sample\n",
    "from random import sample\n",
    "\n",
    "from matplotlib import pyplot as plt\n",
    "\n",
    "def write_to_submission_file(predicted_labels, out_file,\n",
    "                             target='target', index_label=\"session_id\"):\n",
    "    # turn predictions into data frame and save as csv file\n",
    "    predicted_df = pd.DataFrame(predicted_labels,\n",
    "                                index = np.arange(1, predicted_labels.shape[0] + 1),\n",
    "                                columns=[target])\n",
    "    predicted_df.to_csv(out_file, index_label=index_label)\n",
    "\n",
    "class GetFeatures:\n",
    "    \"\"\"\n",
    "    extract basic features from the original data\n",
    "    makes sites agregation\n",
    "    \"\"\"\n",
    "    def __init__(self, initcedexisradarnet, to_agregate):\n",
    "        self.time_columns = ['time'+str(i) for i in range(1, 11)]\n",
    "        self.site_columns = ['site'+str(i) for i in range(1, 11)]\n",
    "        self.time_diff_columns = ['time_diff'+str(i) for i in range(1, 10)]\n",
    "        self.initcedexisradarnet = np.array(initcedexisradarnet)\n",
    "        self.icrn = self.initcedexisradarnet.min()\n",
    "        self.to_agregate = to_agregate\n",
    "        self.to_agregate_min = [min(a) for a in self.to_agregate]\n",
    "    def fit(self):\n",
    "        pass\n",
    "    def session_timespan(self, r):\n",
    "        l = r.dropna().values\n",
    "        if len(l) > 1: return l[-1] - l[0]\n",
    "        else: return np.nan\n",
    "    def session(self, r):\n",
    "        l = r[r>0].values\n",
    "        return pd.Series([len(l), len(np.unique(l))]).T\n",
    "    def session_in_seconds(self, df):\n",
    "        def f(x):\n",
    "            if x == 0: return 0\n",
    "            elif x > 3: return 1\n",
    "            else: return 3\n",
    "        g = lambda x: pd.Series([x[x==0].shape[0], x[x==1].shape[0]])\n",
    "        return df.loc[:, self.time_diff_columns].applymap(f).apply(g, axis=1).values  \n",
    "    def replace_cedexis_radar(self, df_):\n",
    "        def f(x):\n",
    "            ii = np.where(np.isin(x, self.initcedexisradarnet))[0]\n",
    "            if len(ii)> 0: x[ii] = [self.icrn]*len(ii)\n",
    "            return x\n",
    "        df = df_.copy()\n",
    "        df.loc[:, self.site_columns] = df.loc[:, self.site_columns].apply(f, axis=1)\n",
    "        return df\n",
    "    def sites_agregator(self, df_):\n",
    "        def f(x, aa, a_min):\n",
    "            ii = np.where(np.isin(x, aa))[0]\n",
    "            if len(ii)> 0: x[ii] = [a_min]*len(ii)\n",
    "            return x\n",
    "        df = df_.copy()\n",
    "        for i in range(len(self.to_agregate)):\n",
    "            aa = self.to_agregate[i]\n",
    "            a_min = self.to_agregate_min[i]\n",
    "            df.loc[:, self.site_columns] = df.loc[:, self.site_columns].apply(lambda x: f(x, aa, a_min), axis=1)\n",
    "        return df\n",
    "    \n",
    "    def transform(self, df_, minutes_step=10):\n",
    "        df = df_.copy()\n",
    "        for c in self.time_columns: df.loc[:, c] = pd.to_datetime(df.loc[:, c])\n",
    "        \n",
    "        d0 = datetime.datetime(2013, 1, 12)\n",
    "        df['hour'] = df['time1'].map(lambda x: x.hour)\n",
    "        df['minute'] = df['time1'].map(lambda x: x.minute // minutes_step)\n",
    "        df['weekday'] = df['time1'].map(lambda x: x.weekday())\n",
    "        df['month'] = df['time1'].map(lambda x: (x.year - 2013)*12) + df['time1'].map(lambda x: x.month)\n",
    "        df['week'] = df['time1'].map(lambda x: ((x - d0).days + 5)//7)\n",
    "        df['day'] = df['time1'].map(lambda x: (x - d0).days)\n",
    "        \n",
    "        df.loc[:, 'session_length'] = 0\n",
    "        df.loc[:, '#unique_sites'] = 0\n",
    "        df.loc[:, ['session_length', '#unique_sites']] = df.loc[:, self.site_columns].apply(self.session, axis=1).values\n",
    "        df['session_timespan'] = df.loc[:, self.time_columns].apply(self.session_timespan, axis=1).map(lambda t: t.seconds)\n",
    "        df['session_timespan'] = df['session_timespan'].fillna(0).map(lambda x: np.log(x + 1))\n",
    "        \n",
    "        for t in range(1, 10):\n",
    "            df.loc[:, 'time_diff'+str(t)] = (df.loc[:, 'time'+str(t+1)] - df.loc[:, 'time'+str(t)]).map(lambda t: t.seconds) \n",
    "        df.loc[:, 's_0'] = 0\n",
    "        df.loc[:, 's_more_3'] = 0\n",
    "        df.loc[:, ['s_0', 's_more_3']] = self.session_in_seconds(df)\n",
    "        \n",
    "        # formatting      \n",
    "        df.loc[:, self.time_diff_columns] = df.loc[:, self.time_diff_columns].fillna(0)\n",
    "        df.loc[:, self.site_columns] = df.loc[:, self.site_columns].fillna(0).astype(int)\n",
    "        return df\n",
    "\n",
    "class Alice:\n",
    "    \"\"\"\n",
    "    returns (not) alice's unique sites for different time periods and some other statistics for EDA\n",
    "    \"\"\"\n",
    "    def __init__(self, site_dict, site_dict_rev):\n",
    "        self.alice_unique_sites = {}\n",
    "        self.not_alice_unique_sites = {}\n",
    "        self.common = {}\n",
    "        self.site_dict = site_dict\n",
    "        self.site_dict_rev = site_dict_rev\n",
    "    def fit(self, df_stacked, n=50):     \n",
    "        alice = df_stacked[df_stacked['target']==1].site.unique() \n",
    "        not_alice = df_stacked[df_stacked['target']==0].site.unique()         \n",
    "        alice_unique = set(alice)-set(not_alice) \n",
    "        not_alice_unique = set(not_alice) - set(alice)\n",
    "        \n",
    "        file = os.path.join('data','train', 'Alice_log.csv')\n",
    "        alice = pd.read_csv(file)\n",
    "\n",
    "        # alice unique sites \n",
    "        alice['unique'] = 0\n",
    "        alice_unique = [self.site_dict_rev[k] for k in alice_unique]\n",
    "        alice.loc[alice[alice['site'].isin(alice_unique)].index, 'unique'] = 1\n",
    "        \n",
    "        # alice's total time parameters\n",
    "        alice['timestamp']= pd.to_datetime(alice['timestamp'])\n",
    "        f = lambda x: 12*(x.year - 2013)+ x.month\n",
    "        alice['month']= alice['timestamp'].map(f)\n",
    "        alice['site_id'] = alice['site'].replace(self.site_dict)\n",
    "        h0 = datetime.datetime(2013, 1, 12)\n",
    "        f = lambda x, ss: (x - h0).total_seconds()//ss\n",
    "        alice['hours_total'] = alice['timestamp'].map(lambda x: f(x, 3600)).astype(int)\n",
    "        alice['days_total'] = alice['timestamp'].map(lambda x: f(x, 3600*24)).astype(int)\n",
    "        alice['minutes_total'] = alice['timestamp'].map(lambda x: f(x, 60)).astype(int)\n",
    "        self.df = alice\n",
    "        \n",
    "        # not alice unique sites with limited frquency (n)\n",
    "        site_frequency = df_stacked.site.dropna().astype(int).value_counts().sort_values(ascending=False)       \n",
    "        not_alice_unique_short = []\n",
    "        for c in not_alice_unique:\n",
    "            if site_frequency[c] < n: not_alice_unique_short.append(c)      \n",
    "        df_stacked['not_alice'] = 0\n",
    "        ii = df_stacked[df_stacked['site'].isin(not_alice_unique_short)].index\n",
    "        df_stacked.loc[ii, 'not_alice']=1\n",
    "        \n",
    "        # (not) alice's and unique sites for different periods (for cross validation)\n",
    "        for m in [12, 13, 14, 15, 16]: #months\n",
    "            self.alice_unique_sites[m] = alice[(alice['unique']==1)&(alice['month']<=m)].site_id.unique()\n",
    "            self.not_alice_unique_sites[m] = df_stacked[(df_stacked['not_alice']==1)&\n",
    "                                                        (df_stacked['month']<=m)].site.unique()\n",
    "            self.common[m] = (set(df_stacked[df_stacked['month']<=m].site.unique()) - \n",
    "                             set(self.not_alice_unique_sites[m]) - set(self.alice_unique_sites[m]))\n",
    "            \n",
    "class GetSessions:\n",
    "    \"\"\"\n",
    "    transforms stacked representation to original session represatration\n",
    "    \"\"\"\n",
    "    def sites(self, df, sites_in):\n",
    "        m = df.sessions.min()\n",
    "        res = np.zeros(df.sessions.max()-m+1)\n",
    "        tmp = df[df.site.isin(sites_in)].groupby('sessions')['sessions'].count()\n",
    "        ii = tmp.index.map(lambda x: x-m)\n",
    "        res[ii] = tmp.values\n",
    "        return res\n",
    "    def minutes(self, df, minutes_in):\n",
    "        m = df.sessions.min()\n",
    "        res = np.zeros(df.sessions.max()-m+1)\n",
    "        tmp = df[df.minutes_total.isin(minutes_in)].groupby('sessions')['sessions'].mean()\n",
    "        ii = tmp.index.map(lambda x: x-m)\n",
    "        res[ii] = np.ones(len(ii))\n",
    "        return res\n",
    "    def hours(self, df, hours_in):\n",
    "        m = df.sessions.min()\n",
    "        res = np.zeros(df.sessions.max()-m+1)\n",
    "        tmp = df[df.hours_total.isin(hours_in)].groupby('sessions')['sessions'].mean()\n",
    "        ii = tmp.index.map(lambda x: x-m)\n",
    "        res[ii] = np.ones(len(ii))\n",
    "        return res\n",
    "    def days(self, df, days_in):\n",
    "        m = df.sessions.min()\n",
    "        res = np.zeros(df.sessions.max()-m+1)\n",
    "        tmp = df[df.days_total.isin(days_in)].groupby('sessions')['sessions'].mean()\n",
    "        ii = tmp.index.map(lambda x: x-m)\n",
    "        res[ii] = np.ones(len(ii))\n",
    "        return res  \n",
    "\n",
    "def stack_df(df, target=False):\n",
    "    time_columns = ['time'+str(i) for i in range(1, 11)]\n",
    "    site_columns = ['site'+str(i) for i in range(1, 11)]\n",
    "    sites = df.loc[:, site_columns].stack().astype(int).reset_index(drop=True)\n",
    "    time = df.loc[:, time_columns].fillna(datetime.datetime(2013, 1, 11)).stack().reset_index(drop=True)\n",
    "    res = pd.concat([sites, time], axis=1)\n",
    "    res.columns=['site', 'time']\n",
    "    res['sessions'] = res.index.map(lambda x: 1 + x//10)\n",
    "    res['time']= pd.to_datetime(res['time'])\n",
    "    f = lambda x: 12*(x.year - 2013)+ x.month\n",
    "    res['month']= res['time'].map(f)\n",
    "    h0 = datetime.datetime(2013, 1, 12)\n",
    "    f = lambda x, ss: (x - h0).total_seconds()//ss\n",
    "    res['hours_total'] = res['time'].map(lambda x: f(x, 3600)).astype(int)\n",
    "    res['days_total'] = res['time'].map(lambda x: f(x, 3600*24)).astype(int)\n",
    "    res['minutes_total'] = res['time'].map(lambda x: f(x, 60)).astype(int)\n",
    "    if target:\n",
    "        targets = []\n",
    "        for t in df.target: targets += [t]*10\n",
    "        res['target'] = targets\n",
    "    return res\n",
    "\n",
    "class Vectorizer:\n",
    "    \"\"\"\n",
    "    vectorisation on all sites\n",
    "    \"\"\"\n",
    "    def __init__(self, vectorizer_, ngram_range, max_features=50000):\n",
    "        if vectorizer_=='tfidf':\n",
    "            self.vectorizer = TfidfVectorizer(ngram_range=ngram_range, max_features=max_features)\n",
    "        elif vectorizer_=='bow':\n",
    "            self.vectorizer = CountVectorizer(ngram_range=ngram_range, max_features=max_features)\n",
    "        self.f = lambda x: ' '.join(x)\n",
    "        self.columns = ['site'+str(i) for i in range(1, 11)]\n",
    "    def fit(self, df):\n",
    "        self.vectorizer.fit(df.loc[:, self.columns].astype('str').apply(self.f, axis=1).values)\n",
    "    def transform(self, df): \n",
    "        return self.vectorizer.transform(df.loc[:, self.columns].astype('str').apply(self.f, axis=1).values)\n",
    "    \n",
    "class NgramVectorizer:\n",
    "    \"\"\"\n",
    "    an additional vectorisation on the space of sites, common for both kind of users\n",
    "    \"\"\"\n",
    "    def __init__(self, type_='tfidf', ngram_range=(2, 2)):\n",
    "        if type_=='tfidf':\n",
    "            self.vectorizer = TfidfVectorizer(ngram_range=ngram_range)\n",
    "        elif type_=='bow':\n",
    "            self.vectorizer = CountVectorizer(ngram_range=ngram_range)\n",
    "        self.columns = ['site'+str(i) for i in range(1, 11)]        \n",
    "    def get(self, X_train):\n",
    "        shape = X_train.loc[:, self.columns].shape\n",
    "        X = X_train.loc[:, self.columns].values.flatten()\n",
    "        #X = np.where(np.isin(X, self.alice_sites), -1, X).reshape(shape)\n",
    "        #X = np.where(np.isin(X, self.not_alice_unique_sites), -2, X).reshape(shape)\n",
    "        X = np.where(np.isin(X, self.common), X, -1).reshape(shape)\n",
    "        f = lambda x: np.asarray([' '.join(x[np.where(x>0)].astype(str))], dtype=object)\n",
    "        #f = lambda x: np.asarray([' '.join(x.astype(str))], dtype=object)\n",
    "        X = np.apply_along_axis(f, 1, X)\n",
    "        return X.flatten()\n",
    "    def fit(self, X_train, us):\n",
    "        self.alice_sites = us.alice_unique_sites\n",
    "        self.not_alice_unique_sites = us.not_alice_unique_sites\n",
    "        self.common = np.array(list(us.common))\n",
    "        self.vectorizer.fit(self.get(X_train))\n",
    "    def transform(self, X, vectorize=True):\n",
    "        if vectorize: return self.vectorizer.transform(self.get(X))\n",
    "        else: return self.get(X)\n",
    "        \n",
    "class ServiceVectorizer:\n",
    "    \"\"\"\n",
    "    tfidf on services vector space\n",
    "    \"\"\"\n",
    "    def __init__(self, services_dict):\n",
    "        self.services_dict = services_dict\n",
    "        self.sites_in = np.array(list(services_dict.keys()))\n",
    "        self.vectorizer = TfidfVectorizer()\n",
    "        self.columns = ['site'+str(i) for i in range(1, 11)]        \n",
    "    def get(self, X_):\n",
    "        shape = X_.loc[:, self.columns].shape\n",
    "        X = X_.loc[:, self.columns].values.flatten()\n",
    "        X = np.where(np.isin(X, np.array(self.sites_in)), X, -1).reshape(shape)\n",
    "        def f(x):\n",
    "            g = np.vectorize(lambda x: self.services_dict[x])\n",
    "            z = x[np.where(x>0)]\n",
    "            if len(z)==0: return np.asarray([''], dtype=object)\n",
    "            else: return np.asarray(' '.join(g(z)), dtype=object)\n",
    "        X = np.apply_along_axis(f, 1, X)\n",
    "        return X.flatten()\n",
    "    def fit(self, X_train):\n",
    "        self.vectorizer.fit(self.get(X_train))\n",
    "    def transform(self, X, vectorize=True):\n",
    "        if vectorize: return self.vectorizer.transform(self.get(X))\n",
    "        else: return self.get(X) \n",
    "        \n",
    "class Resampler:\n",
    "    def __init__(self, services_dict):\n",
    "        self.sites_out = np.array(list(services_dict.keys()))\n",
    "        self.columns = ['site'+str(i) for i in range(1, 11)] \n",
    "    def fit(self):\n",
    "        return self\n",
    "    def transform(self, X_, X_stacked):\n",
    "        ii = (X_stacked[X_stacked.site.isin(self.sites_out)].sessions - 1).unique()\n",
    "        #ii = sample(list(ii), int(ii.shape[0]*0.75)) #\n",
    "        X_plus = X_.loc[ii, :]\n",
    "        shape = X_plus.loc[:, self.columns].shape\n",
    "        X = X_plus.loc[:, self.columns].values.flatten()\n",
    "        X_plus.loc[:, self.columns] = np.where(np.isin(X, np.array(self.sites_out)), -3, X).reshape(shape)\n",
    "        return X_plus, X_.loc[ii, 'target'].values"
   ]
  },
  {
   "cell_type": "code",
   "execution_count": null,
   "metadata": {},
   "outputs": [],
   "source": []
  }
 ],
 "metadata": {
  "kernelspec": {
   "display_name": "Python 3",
   "language": "python",
   "name": "python3"
  },
  "language_info": {
   "codemirror_mode": {
    "name": "ipython",
    "version": 3
   },
   "file_extension": ".py",
   "mimetype": "text/x-python",
   "name": "python",
   "nbconvert_exporter": "python",
   "pygments_lexer": "ipython3",
   "version": "3.7.6"
  }
 },
 "nbformat": 4,
 "nbformat_minor": 4
}
